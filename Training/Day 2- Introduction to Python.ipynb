{
 "cells": [
  {
   "cell_type": "markdown",
   "id": "1e50069a",
   "metadata": {},
   "source": [
    "<h2>Python is a popular programming language. It was created by Guido van Rossum, and released in 1991.</h2>\n",
    "\n",
    "<h3>It is used for:\n",
    "\n",
    "web development (server-side),<br>\n",
    "software development,<br>\n",
    "mathematics,<br>\n",
    "system scripting,<br>\n",
    "Data Science (Analytics, Machine Learning, Artificial Itelligence)</h3>"
   ]
  },
  {
   "cell_type": "markdown",
   "id": "530d9f1e",
   "metadata": {},
   "source": [
    "<h1>Basic Hello World </h1>"
   ]
  },
  {
   "cell_type": "code",
   "execution_count": 27,
   "id": "0bc3dd47",
   "metadata": {},
   "outputs": [
    {
     "name": "stdout",
     "output_type": "stream",
     "text": [
      "Hello World. Now you are a python programmer\n"
     ]
    }
   ],
   "source": [
    "print(\"Hello World. Now you are a python programmer\")"
   ]
  },
  {
   "cell_type": "markdown",
   "id": "091fc219",
   "metadata": {},
   "source": [
    "<h1>Comment in Python</h1>"
   ]
  },
  {
   "cell_type": "code",
   "execution_count": 28,
   "id": "c7feac16",
   "metadata": {},
   "outputs": [
    {
     "name": "stdout",
     "output_type": "stream",
     "text": [
      " # This is a comment \n"
     ]
    }
   ],
   "source": [
    "print(\" # This is a comment \") # This is a comment"
   ]
  },
  {
   "cell_type": "markdown",
   "id": "3c136c92",
   "metadata": {},
   "source": [
    " <h2> We Comment the codes using (#) in python </h2>"
   ]
  },
  {
   "cell_type": "code",
   "execution_count": null,
   "id": "1132b8b9",
   "metadata": {},
   "outputs": [],
   "source": []
  },
  {
   "cell_type": "markdown",
   "id": "02e6e8b6",
   "metadata": {},
   "source": [
    "<h1>Creating Variables</h1> <br>\n",
    "\n",
    "<h2> Python has no command for declaring a variable. <br>\n",
    "\n",
    "A variable is created the moment you first assign a value to it.</h2>\n",
    "\n"
   ]
  },
  {
   "cell_type": "code",
   "execution_count": 30,
   "id": "bceb6ced",
   "metadata": {},
   "outputs": [
    {
     "name": "stdout",
     "output_type": "stream",
     "text": [
      "5\n"
     ]
    }
   ],
   "source": [
    "x = 5 \n",
    "print(x)"
   ]
  },
  {
   "cell_type": "markdown",
   "id": "6bd0ffa1",
   "metadata": {},
   "source": [
    "<h1> Data Types </h1> <br>\n",
    "<h2>In programming, data type is an important concept.<br>\n",
    "\n",
    "Variables can store data of different types, and different types can do different things.<br>\n",
    "\n",
    "Python has the following data types built-in by default, in these categories:</h2>\n",
    "<h3>\n",
    "Text Type:\tstr <br>\n",
    "Numeric Types:\tint, float, complex<br>\n",
    "Sequence Types:\tlist, tuple, range<br>\n",
    "Mapping Type:\tdict<br>\n",
    "Set Types:\tset, frozenset<br>\n",
    "Boolean Type:\tbool<br>\n",
    "Binary Types:\tbytes, bytearray, memoryview<br>\n",
    "None Type:\tNoneType\n",
    "</h3>    "
   ]
  },
  {
   "cell_type": "code",
   "execution_count": 31,
   "id": "339924ae",
   "metadata": {},
   "outputs": [],
   "source": [
    "x = 7\n",
    "y = 7.5"
   ]
  },
  {
   "cell_type": "code",
   "execution_count": 32,
   "id": "37004f39",
   "metadata": {},
   "outputs": [
    {
     "name": "stdout",
     "output_type": "stream",
     "text": [
      "<class 'int'>\n",
      "<class 'float'>\n"
     ]
    }
   ],
   "source": [
    "print(type(x))\n",
    "print(type(y))"
   ]
  },
  {
   "cell_type": "code",
   "execution_count": 34,
   "id": "9b117e7b",
   "metadata": {},
   "outputs": [
    {
     "name": "stdout",
     "output_type": "stream",
     "text": [
      "<class 'str'>\n"
     ]
    }
   ],
   "source": [
    "name = \"student\"\n",
    "print(type(name))"
   ]
  },
  {
   "cell_type": "code",
   "execution_count": 36,
   "id": "7e338f55",
   "metadata": {},
   "outputs": [
    {
     "name": "stdout",
     "output_type": "stream",
     "text": [
      "<class 'complex'>\n"
     ]
    }
   ],
   "source": [
    "a = 1j\n",
    "print(type(a))"
   ]
  },
  {
   "cell_type": "code",
   "execution_count": 38,
   "id": "9d4b8a71",
   "metadata": {},
   "outputs": [
    {
     "name": "stdout",
     "output_type": "stream",
     "text": [
      "<class 'range'>\n"
     ]
    }
   ],
   "source": [
    "a = range(6)\n",
    "a\n",
    "print(type(a))"
   ]
  },
  {
   "cell_type": "code",
   "execution_count": 40,
   "id": "2e7847cf",
   "metadata": {},
   "outputs": [
    {
     "name": "stdout",
     "output_type": "stream",
     "text": [
      "<class 'list'>\n"
     ]
    }
   ],
   "source": [
    "b = [\"apple\", \"ball\", \"cat\"]\n",
    "print(type(b))"
   ]
  },
  {
   "cell_type": "code",
   "execution_count": 42,
   "id": "8cf3c5c0",
   "metadata": {},
   "outputs": [
    {
     "data": {
      "text/plain": [
       "('apples', 'ball', 'cat')"
      ]
     },
     "execution_count": 42,
     "metadata": {},
     "output_type": "execute_result"
    }
   ],
   "source": [
    "c = (\"apples\" , \"ball\" , \"cat\")\n",
    "c"
   ]
  },
  {
   "cell_type": "code",
   "execution_count": 43,
   "id": "92f5cb26",
   "metadata": {},
   "outputs": [
    {
     "name": "stdout",
     "output_type": "stream",
     "text": [
      "<class 'tuple'>\n"
     ]
    }
   ],
   "source": [
    "print(type(c))"
   ]
  },
  {
   "cell_type": "code",
   "execution_count": 44,
   "id": "2668bdb8",
   "metadata": {},
   "outputs": [
    {
     "name": "stdout",
     "output_type": "stream",
     "text": [
      "<class 'set'>\n"
     ]
    }
   ],
   "source": [
    "my_set= {\"apple\", \"ball\", \"cat\"}\n",
    "my_set\n",
    "print(type(my_set))"
   ]
  },
  {
   "cell_type": "code",
   "execution_count": 46,
   "id": "5c38f479",
   "metadata": {},
   "outputs": [
    {
     "data": {
      "text/plain": [
       "{'apple': 1, 'ball': 2, 'cat': 3}"
      ]
     },
     "execution_count": 46,
     "metadata": {},
     "output_type": "execute_result"
    }
   ],
   "source": [
    "my_dcit = {\"apple\" : 1 , \"ball\": 2, \"cat\" : 3}\n",
    "my_dcit\n"
   ]
  },
  {
   "cell_type": "code",
   "execution_count": 48,
   "id": "5d7e6df6",
   "metadata": {},
   "outputs": [
    {
     "name": "stdout",
     "output_type": "stream",
     "text": [
      "<class 'dict'>\n"
     ]
    }
   ],
   "source": [
    "print(type(my_dcit))"
   ]
  },
  {
   "cell_type": "markdown",
   "id": "9c97ee9e",
   "metadata": {},
   "source": [
    "<h1> Python Arithmetic Operators </h1><br>\n",
    "<h2>Arithmetic operators are used with numeric values to perform common mathematical operations:</h2>"
   ]
  },
  {
   "cell_type": "raw",
   "id": "dee50958",
   "metadata": {},
   "source": [
    "+\tAddition\t\t\n",
    "-\tSubtraction\t\t\n",
    "*\tMultiplication\t\n",
    "/\tDivision\t\t\n",
    "%\tModulus\t\t\n",
    "**\tExponentiation\t\n",
    "//\tFloor divisio"
   ]
  },
  {
   "cell_type": "markdown",
   "id": "0226808b",
   "metadata": {},
   "source": [
    "<h1>Python Assignment Operators Assignment operators are used to assign values to variables:</h1>"
   ]
  },
  {
   "cell_type": "raw",
   "id": "56dd9840",
   "metadata": {},
   "source": [
    "=\tx = 5\tx = 5\t\n",
    "+=\tx += 3\tx = x + 3\t\n",
    "-=\tx -= 3\tx = x - 3\t\n",
    "*=\tx *= 3\tx = x * 3\t\n",
    "/=\tx /= 3\tx = x / 3\t\n",
    "%=\tx %= 3\tx = x % 3\t\n",
    "//=\tx //= 3\tx = x // 3\t\n",
    "**=\tx **= 3\tx = x ** 3\t\n",
    "&=\tx &= 3\tx = x & 3\t\n",
    "|=\tx |= 3\tx = x | 3\t\n",
    "^=\tx ^= 3\tx = x ^ 3\t\n",
    ">>=\tx >>= 3\tx = x >> 3\t\n",
    "<<=\tx <<= 3\tx = x << 3"
   ]
  },
  {
   "cell_type": "markdown",
   "id": "f900b7a4",
   "metadata": {},
   "source": [
    "<h1> Python Comparison Operators</h1><br>\n",
    "<h2>Comparison operators are used to compare two values:</h2>\n"
   ]
  },
  {
   "cell_type": "raw",
   "id": "46b83ca7",
   "metadata": {},
   "source": [
    "Operator\tName\tExample\n",
    "==\tEqual\tx == y\t\n",
    "!=\tNot equal\tx != y\t\n",
    ">\tGreater than\tx > y\t\n",
    "<\tLess than\tx < y\t\n",
    ">=\tGreater than or equal to\tx >= y\t\n",
    "<=\tLess than or equal to\tx <= y\t"
   ]
  },
  {
   "cell_type": "markdown",
   "id": "88d22e95",
   "metadata": {},
   "source": [
    "<h1>Python Logical Operators</h1><br>\n",
    "<h2>Logical operators are used to combine conditional statements:</h1>"
   ]
  },
  {
   "cell_type": "raw",
   "id": "c3aea9b7",
   "metadata": {},
   "source": [
    "\n",
    "Operator\tDescription\tExample\tTry it\n",
    "and \tReturns True if both statements are true\tx < 5 and  x < 10\t\n",
    "or\tReturns True if one of the statements is true\tx < 5 or x < 4\t\n",
    "not\tReverse the result, returns False if the result is true\tnot(x < 5 and x < 1"
   ]
  },
  {
   "cell_type": "code",
   "execution_count": 49,
   "id": "9bedbd6e",
   "metadata": {},
   "outputs": [
    {
     "name": "stdout",
     "output_type": "stream",
     "text": [
      "21\n",
      "80\n",
      "-11\n",
      "3.2\n",
      "3\n",
      "1\n",
      "1048576\n"
     ]
    }
   ],
   "source": [
    "x = 5 \n",
    "y = 16\n",
    "\n",
    "print (x + y)\n",
    "print (x * y)\n",
    "print (x - y)\n",
    "print ( y / x)\n",
    "print (y // x)\n",
    "print(y % x)\n",
    "print(y**x)\n",
    "\n"
   ]
  },
  {
   "cell_type": "code",
   "execution_count": 50,
   "id": "3447da7f",
   "metadata": {},
   "outputs": [
    {
     "name": "stdout",
     "output_type": "stream",
     "text": [
      "True\n",
      "False\n",
      "True\n",
      "False\n",
      "False\n",
      "True\n"
     ]
    }
   ],
   "source": [
    "x = 5\n",
    "y = 16\n",
    "\n",
    "print (x < y)\n",
    "print (x > y)\n",
    "\n",
    "print(x <= 5)\n",
    "print (x >= 20)\n",
    "print( x!=5)\n",
    "print(y == 16)"
   ]
  },
  {
   "cell_type": "code",
   "execution_count": 51,
   "id": "5f183b40",
   "metadata": {},
   "outputs": [
    {
     "name": "stdout",
     "output_type": "stream",
     "text": [
      "1 2 fizz4 buzzfizz7 8 fizzbuzz11 fizz13 14 FIZZBUZZ16 17 fizz19 buzz"
     ]
    }
   ],
   "source": [
    "#For Loop example  \n",
    "\n",
    "for i in range(1 ,21):\n",
    "    if i % 15 == 0:\n",
    "        print(\"FIZZBUZZ\", end=\"\")\n",
    "    elif i % 3 == 0:\n",
    "        print(\"fizz\", end=\"\")\n",
    "    elif i % 5 == 0:\n",
    "        print(\"buzz\", end = \"\")\n",
    "    else:\n",
    "        print(i, end= \" \")\n",
    "        "
   ]
  },
  {
   "cell_type": "markdown",
   "id": "d9889682",
   "metadata": {},
   "source": [
    "Write an Python program using a for loop (see the syntax in the example fizzbuzz code\n",
    "above) to add the integers 1 up to 𝑛. For example, when 𝑛 = 10 we should get 55"
   ]
  },
  {
   "cell_type": "code",
   "execution_count": 53,
   "id": "2dbae302",
   "metadata": {},
   "outputs": [
    {
     "name": "stdout",
     "output_type": "stream",
     "text": [
      "The sum of integers from 1 to 10 is: 55\n"
     ]
    }
   ],
   "source": [
    "def calculate_sum(n):\n",
    "    sum = 0\n",
    "    for i in range(1 , n+1):\n",
    "        sum += i # you can write it as sum = sum + i\n",
    "    return sum\n",
    "\n",
    "n = 10\n",
    "result = calculate_sum(n)\n",
    "print(\"The sum of integers from 1 to\" , n , \"is:\", result )\n",
    "        \n",
    "    "
   ]
  },
  {
   "cell_type": "code",
   "execution_count": null,
   "id": "c78658bc",
   "metadata": {},
   "outputs": [],
   "source": [
    "Write an Python program using a for loop (see the syntax in the example fizzbuzz code\n",
    "above) to add the integers 1 up to 𝑛. Take n - users input "
   ]
  },
  {
   "cell_type": "code",
   "execution_count": 54,
   "id": "d8b1c971",
   "metadata": {},
   "outputs": [
    {
     "name": "stdout",
     "output_type": "stream",
     "text": [
      "Enter The number:10\n",
      "The sum of integers from 1 to 10 is: 55\n"
     ]
    }
   ],
   "source": [
    "def calculate_sum(n):\n",
    "    sum = 0\n",
    "    for i in range(1 , n+1):\n",
    "        sum += i # you can write it as sum = sum + i\n",
    "    return sum\n",
    "\n",
    "n = int(input(\"Enter The number:\"))\n",
    "result = calculate_sum(n)\n",
    "print(\"The sum of integers from 1 to\" , n , \"is:\", result )"
   ]
  },
  {
   "cell_type": "markdown",
   "id": "103b9fce",
   "metadata": {},
   "source": [
    "Modify your Python code to add the cubes of the integers 1 up to 𝑛. take users input"
   ]
  },
  {
   "cell_type": "code",
   "execution_count": null,
   "id": "08cd5337",
   "metadata": {},
   "outputs": [],
   "source": []
  },
  {
   "cell_type": "code",
   "execution_count": null,
   "id": "822ed396",
   "metadata": {},
   "outputs": [],
   "source": []
  }
 ],
 "metadata": {
  "kernelspec": {
   "display_name": "Python 3 (ipykernel)",
   "language": "python",
   "name": "python3"
  },
  "language_info": {
   "codemirror_mode": {
    "name": "ipython",
    "version": 3
   },
   "file_extension": ".py",
   "mimetype": "text/x-python",
   "name": "python",
   "nbconvert_exporter": "python",
   "pygments_lexer": "ipython3",
   "version": "3.9.13"
  }
 },
 "nbformat": 4,
 "nbformat_minor": 5
}
