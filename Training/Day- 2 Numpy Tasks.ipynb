{
 "cells": [
  {
   "cell_type": "markdown",
   "id": "d2be4110",
   "metadata": {},
   "source": [
    "# Exercise 1: Create a NumPy array with values ranging from 0 to 9."
   ]
  },
  {
   "cell_type": "code",
   "execution_count": 4,
   "id": "5e4b95df",
   "metadata": {},
   "outputs": [
    {
     "name": "stdout",
     "output_type": "stream",
     "text": [
      "[0 1 2 3 4 5 6 7 8 9]\n"
     ]
    }
   ],
   "source": [
    "import numpy as np\n",
    "\n",
    "arr = np.arange(10)\n",
    "print(arr)"
   ]
  },
  {
   "cell_type": "markdown",
   "id": "707fb7bc",
   "metadata": {},
   "source": [
    "# Exercise 2: Create a 3x3 NumPy array with all zeros."
   ]
  },
  {
   "cell_type": "code",
   "execution_count": 5,
   "id": "435c6f15",
   "metadata": {},
   "outputs": [
    {
     "name": "stdout",
     "output_type": "stream",
     "text": [
      "[[0. 0. 0.]\n",
      " [0. 0. 0.]\n",
      " [0. 0. 0.]]\n"
     ]
    }
   ],
   "source": [
    "import numpy as np\n",
    "\n",
    "arr1 = np.zeros((3,3))\n",
    "print(arr1)"
   ]
  },
  {
   "cell_type": "markdown",
   "id": "18fa7afa",
   "metadata": {},
   "source": [
    "# Exercise 3: Create a 2x2 NumPy array with all ones."
   ]
  },
  {
   "cell_type": "code",
   "execution_count": 6,
   "id": "78fd0edd",
   "metadata": {},
   "outputs": [
    {
     "name": "stdout",
     "output_type": "stream",
     "text": [
      "[[1. 1.]\n",
      " [1. 1.]]\n"
     ]
    }
   ],
   "source": [
    "arr2 = np.ones((2,2))\n",
    "print(arr2)"
   ]
  },
  {
   "cell_type": "markdown",
   "id": "333be070",
   "metadata": {},
   "source": [
    "# Exercise 4:Create a 3x3 NumPy array with random values between 0 and 1."
   ]
  },
  {
   "cell_type": "code",
   "execution_count": 7,
   "id": "2436b2fe",
   "metadata": {},
   "outputs": [
    {
     "data": {
      "text/plain": [
       "array([[0.44064367, 0.88011987, 0.59878616],\n",
       "       [0.88098234, 0.07659348, 0.00934473],\n",
       "       [0.9893179 , 0.63763144, 0.98304227]])"
      ]
     },
     "execution_count": 7,
     "metadata": {},
     "output_type": "execute_result"
    }
   ],
   "source": [
    "arr3 = np.random.rand(3,3)\n",
    "arr3"
   ]
  },
  {
   "cell_type": "markdown",
   "id": "38f3d1d5",
   "metadata": {},
   "source": [
    "# Exercise 6: Create a NumPy array with 10 equally spaced values between 0 and 1."
   ]
  },
  {
   "cell_type": "code",
   "execution_count": 9,
   "id": "38a0406b",
   "metadata": {},
   "outputs": [
    {
     "name": "stdout",
     "output_type": "stream",
     "text": [
      "[0.         0.11111111 0.22222222 0.33333333 0.44444444 0.55555556\n",
      " 0.66666667 0.77777778 0.88888889 1.        ]\n"
     ]
    }
   ],
   "source": [
    "arr4 = np.linspace(0 ,1 , 10)\n",
    "print(arr4)"
   ]
  },
  {
   "cell_type": "markdown",
   "id": "050420e8",
   "metadata": {},
   "source": [
    "# Exercise 7: Create a 2x2 NumPy array with diagonal values of 1 and off-diagonal values of 0."
   ]
  },
  {
   "cell_type": "code",
   "execution_count": 10,
   "id": "37a6b867",
   "metadata": {},
   "outputs": [
    {
     "name": "stdout",
     "output_type": "stream",
     "text": [
      "[[1. 0.]\n",
      " [0. 1.]]\n"
     ]
    }
   ],
   "source": [
    "arr5 = np.eye(2)\n",
    "print(arr5)"
   ]
  },
  {
   "cell_type": "markdown",
   "id": "d1e5c11e",
   "metadata": {},
   "source": [
    "# Exercise 8: Create a NumPy array with 20 random integers between 1 and 100."
   ]
  },
  {
   "cell_type": "code",
   "execution_count": 12,
   "id": "c5edeb0e",
   "metadata": {},
   "outputs": [
    {
     "name": "stdout",
     "output_type": "stream",
     "text": [
      "[ 65  98   6  66 100  27  11  99   3  38  45  67  71  70  63  82  88  90\n",
      "  62  28]\n"
     ]
    }
   ],
   "source": [
    "arr6 = np.random.randint(1 ,101, 20)\n",
    "print(arr6)"
   ]
  },
  {
   "cell_type": "markdown",
   "id": "9a2d5016",
   "metadata": {},
   "source": [
    "# Exercise 9: Create a NumPy array with 5 equally spaced values between 0 and 10, and reshape it into a 2x3 array."
   ]
  },
  {
   "cell_type": "code",
   "execution_count": 15,
   "id": "5591f39b",
   "metadata": {},
   "outputs": [
    {
     "name": "stdout",
     "output_type": "stream",
     "text": [
      "[[ 0. ]\n",
      " [ 2.5]\n",
      " [ 5. ]\n",
      " [ 7.5]\n",
      " [10. ]]\n"
     ]
    }
   ],
   "source": [
    "arr7 = np.linspace(0, 10 ,5).reshape(5,1)\n",
    "print(arr7)"
   ]
  },
  {
   "cell_type": "code",
   "execution_count": null,
   "id": "cb197022",
   "metadata": {},
   "outputs": [],
   "source": []
  },
  {
   "cell_type": "markdown",
   "id": "b95b46f8",
   "metadata": {},
   "source": [
    "# Exercise 10: Create a NumPy array with values ranging from 1 to 10, and extract all even numbers."
   ]
  },
  {
   "cell_type": "code",
   "execution_count": 16,
   "id": "ba8b31b8",
   "metadata": {},
   "outputs": [
    {
     "name": "stdout",
     "output_type": "stream",
     "text": [
      "[ 2  4  6  8 10]\n"
     ]
    }
   ],
   "source": [
    "arr8 = np.arange(1,11)\n",
    "even_arr= arr8[ arr8 % 2 == 0]\n",
    "print(even_arr)"
   ]
  },
  {
   "cell_type": "markdown",
   "id": "b9f46d8d",
   "metadata": {},
   "source": [
    "# Exercise 11: Create a 3x3 NumPy array and extract the diagonal elements."
   ]
  },
  {
   "cell_type": "code",
   "execution_count": 20,
   "id": "66b4ea11",
   "metadata": {},
   "outputs": [
    {
     "name": "stdout",
     "output_type": "stream",
     "text": [
      "[1 5 9]\n"
     ]
    }
   ],
   "source": [
    "\n",
    "arr9 = np.array([[1 , 2, 3] , [4 ,5 ,6], [7,8,9]])\n",
    "diagonal = np.diag(arr9)\n",
    "print(diagonal)"
   ]
  },
  {
   "cell_type": "markdown",
   "id": "bc05d582",
   "metadata": {},
   "source": [
    "# Exercise 12:Create a 3x3 NumPy array and flip it vertically."
   ]
  },
  {
   "cell_type": "code",
   "execution_count": 21,
   "id": "7f3de462",
   "metadata": {},
   "outputs": [
    {
     "name": "stdout",
     "output_type": "stream",
     "text": [
      "[[7 8 9]\n",
      " [4 5 6]\n",
      " [1 2 3]]\n"
     ]
    }
   ],
   "source": [
    "arr10 = np.array([[1 , 2, 3] , [4 ,5 ,6], [7,8,9]])\n",
    "vertical_flip = np.flipud(arr10)\n",
    "print(vertical_flip)"
   ]
  },
  {
   "cell_type": "markdown",
   "id": "ac50521e",
   "metadata": {},
   "source": [
    "# Exercise 13: Create two NumPy arrays of the same shape and concatenate them vertically."
   ]
  },
  {
   "cell_type": "code",
   "execution_count": 22,
   "id": "a95b66f8",
   "metadata": {},
   "outputs": [
    {
     "name": "stdout",
     "output_type": "stream",
     "text": [
      "[[1 2 3]\n",
      " [4 5 6]]\n"
     ]
    }
   ],
   "source": [
    "arr11 = np.array([1 ,2 ,3 ])\n",
    "arr12 = np.array([4, 5 , 6])\n",
    "\n",
    "join = np.vstack((arr11 ,arr12))\n",
    "print(join)"
   ]
  },
  {
   "cell_type": "markdown",
   "id": "4f2858d7",
   "metadata": {},
   "source": [
    "# Exercise 14: Create two NumPy arrays of the same shape and concatenate them horizontally"
   ]
  },
  {
   "cell_type": "code",
   "execution_count": 23,
   "id": "3b270d95",
   "metadata": {},
   "outputs": [
    {
     "name": "stdout",
     "output_type": "stream",
     "text": [
      "[1 2 3 4 5 6]\n"
     ]
    }
   ],
   "source": [
    "arr11 = np.array([1 ,2 ,3 ])\n",
    "arr12 = np.array([4, 5 , 6])\n",
    "\n",
    "join = np.hstack((arr11 ,arr12))\n",
    "print(join)"
   ]
  },
  {
   "cell_type": "markdown",
   "id": "6c82ca75",
   "metadata": {},
   "source": [
    "# Exercise 15: Create a 3x3 NumPy array and calculate the sum of all its elements."
   ]
  },
  {
   "cell_type": "code",
   "execution_count": 24,
   "id": "cddc3a25",
   "metadata": {},
   "outputs": [
    {
     "name": "stdout",
     "output_type": "stream",
     "text": [
      "45\n"
     ]
    }
   ],
   "source": [
    "arr14 = np.array([[1 , 2, 3] , [4 ,5 ,6], [7,8,9]])\n",
    "sum = np.sum(arr14)\n",
    "print(sum)"
   ]
  },
  {
   "cell_type": "markdown",
   "id": "a6000b5b",
   "metadata": {},
   "source": [
    "# Exercise 16: Create a 3x3 NumPy array and calculate the mean of all its elements."
   ]
  },
  {
   "cell_type": "code",
   "execution_count": 25,
   "id": "ef2d44df",
   "metadata": {},
   "outputs": [
    {
     "name": "stdout",
     "output_type": "stream",
     "text": [
      "5.0\n"
     ]
    }
   ],
   "source": [
    "arr15 = np.array([[1 , 2, 3] , [4 ,5 ,6], [7,8,9]])\n",
    "mean = np.mean(arr14)\n",
    "print(mean)"
   ]
  },
  {
   "cell_type": "markdown",
   "id": "24a3137c",
   "metadata": {},
   "source": [
    "# Exercise 17: Create a 3x3 NumPy array and find the maximum value among its elements."
   ]
  },
  {
   "cell_type": "code",
   "execution_count": null,
   "id": "5f8b4615",
   "metadata": {},
   "outputs": [],
   "source": []
  },
  {
   "cell_type": "markdown",
   "id": "727179ac",
   "metadata": {},
   "source": [
    "# Exercise 18: Create a 3x3 NumPy array and find the minimum value among its elements."
   ]
  },
  {
   "cell_type": "code",
   "execution_count": null,
   "id": "fd24bc98",
   "metadata": {},
   "outputs": [],
   "source": []
  },
  {
   "cell_type": "markdown",
   "id": "ccb30f64",
   "metadata": {},
   "source": [
    "# Exercise 19: Create a NumPy array with 10 random floating-point numbers between 0 and 1, and round them to the nearest integer."
   ]
  },
  {
   "cell_type": "code",
   "execution_count": 27,
   "id": "1e4011c1",
   "metadata": {},
   "outputs": [
    {
     "name": "stdout",
     "output_type": "stream",
     "text": [
      "[0.49870124 0.64346021 0.93598727 0.45359388 0.00944517 0.24376735\n",
      " 0.37526223 0.44204777 0.32243965 0.55130511]\n"
     ]
    }
   ],
   "source": [
    "arr15 = np.random.rand(10)\n",
    "print(arr15)"
   ]
  },
  {
   "cell_type": "code",
   "execution_count": 29,
   "id": "d168a683",
   "metadata": {},
   "outputs": [
    {
     "name": "stdout",
     "output_type": "stream",
     "text": [
      "[0. 1. 1. 0. 0. 0. 0. 0. 0. 1.]\n"
     ]
    }
   ],
   "source": [
    "rounded = np.round(arr15)\n",
    "print(rounded)"
   ]
  },
  {
   "cell_type": "markdown",
   "id": "a5b0928e",
   "metadata": {},
   "source": [
    "# Exercise 20: Create a NumPy array with 5 random integers between 1 and 100, and calculate the median of the array."
   ]
  },
  {
   "cell_type": "code",
   "execution_count": 30,
   "id": "aac31376",
   "metadata": {},
   "outputs": [
    {
     "name": "stdout",
     "output_type": "stream",
     "text": [
      "6.0\n"
     ]
    }
   ],
   "source": [
    "arr16 = np.random.randint(1 ,101, size = 5)\n",
    "median = np.median(arr16)\n",
    "print(median)"
   ]
  },
  {
   "cell_type": "code",
   "execution_count": null,
   "id": "54f8e97b",
   "metadata": {},
   "outputs": [],
   "source": []
  }
 ],
 "metadata": {
  "kernelspec": {
   "display_name": "Python 3 (ipykernel)",
   "language": "python",
   "name": "python3"
  },
  "language_info": {
   "codemirror_mode": {
    "name": "ipython",
    "version": 3
   },
   "file_extension": ".py",
   "mimetype": "text/x-python",
   "name": "python",
   "nbconvert_exporter": "python",
   "pygments_lexer": "ipython3",
   "version": "3.9.13"
  }
 },
 "nbformat": 4,
 "nbformat_minor": 5
}
