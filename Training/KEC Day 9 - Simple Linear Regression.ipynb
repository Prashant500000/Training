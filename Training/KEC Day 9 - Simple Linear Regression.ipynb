{
 "cells": [
  {
   "cell_type": "markdown",
   "id": "683378bd",
   "metadata": {},
   "source": [
    "# Linear Regression: The Intuitive Idea"
   ]
  },
  {
   "cell_type": "markdown",
   "id": "b4201318",
   "metadata": {},
   "source": [
    "# We have seen that a scatterplot is useful for visualising the relationship between two quantitative variables. Sometimes we wish to predict the value of one of the variables using only the value of the other variable. One way to do this is to use a “line of best fit” to model the data."
   ]
  },
  {
   "cell_type": "markdown",
   "id": "372d98bd",
   "metadata": {},
   "source": [
    "We have two variables X and Y \n",
    "\n",
    "X = independent variable\n",
    "Y = dependent variable\n",
    "Example (Study Time and Grades) = Grades are dependent on Study time\n",
    "\n",
    "Dependent variable is on the Y-axis\n",
    "Independent variable is on the X-axis\n",
    "\n",
    "We try to form a relationship between two variables and draw a Line (in this case a straight line) ** There are other lines for instance Curve Lines\n"
   ]
  },
  {
   "cell_type": "markdown",
   "id": "aa032d18",
   "metadata": {},
   "source": [
    "The mathematical equation for a line can be written as</br>\n",
    "𝑦 = 𝑎 + 𝑏𝑥</br>\n",
    "where 𝑎 is the intercept and 𝑏 is the slope. </br>\n",
    "If we are given the values of 𝑎 and 𝑏 then for any value of 𝑥 we can predict the\n",
    "corresponding value of 𝑦, i.e., for each 𝑥𝑖\n",
    "the predicted value is (called “𝑦 hat”)</br>\n",
    "𝑦̂𝑖 = 𝑎 + 𝑏𝑥𝑖"
   ]
  },
  {
   "cell_type": "markdown",
   "id": "9c126e6e",
   "metadata": {},
   "source": [
    "We are then concerned the question: </br>\n",
    "How close is each predicted value is to its actual (or observed) value?</br></br>\n",
    "That is, how close is each 𝑦̂𝑖 value is to its corresponding 𝑦𝑖 value. This is called a residual\n",
    "(or error) and is calculated as</br>\n",
    "𝑒𝑖 = 𝑦𝑖 − 𝑦̂"
   ]
  },
  {
   "cell_type": "markdown",
   "id": "8b3b2b6a",
   "metadata": {},
   "source": [
    "# So how to calculate slope and y-intercept and form a \"line of best fit\"\n",
    "\n",
    "Slope (m) = ( n ∑XY- ∑X ∑Y )/( n∑X^2-(∑X)^2 )\n",
    "\n",
    "y-intercept =  ( ∑Y - m∑X )/ n\n"
   ]
  },
  {
   "cell_type": "code",
   "execution_count": null,
   "id": "b3f63c97",
   "metadata": {},
   "outputs": [],
   "source": [
    "import pandas as pd\n",
    "import numpy as np\n",
    "import matplotlib.pyplot as plt"
   ]
  },
  {
   "cell_type": "code",
   "execution_count": 59,
   "id": "5042d177",
   "metadata": {},
   "outputs": [
    {
     "data": {
      "text/html": [
       "<div>\n",
       "<style scoped>\n",
       "    .dataframe tbody tr th:only-of-type {\n",
       "        vertical-align: middle;\n",
       "    }\n",
       "\n",
       "    .dataframe tbody tr th {\n",
       "        vertical-align: top;\n",
       "    }\n",
       "\n",
       "    .dataframe thead th {\n",
       "        text-align: right;\n",
       "    }\n",
       "</style>\n",
       "<table border=\"1\" class=\"dataframe\">\n",
       "  <thead>\n",
       "    <tr style=\"text-align: right;\">\n",
       "      <th></th>\n",
       "      <th>Unnamed: 0</th>\n",
       "      <th>x1</th>\n",
       "      <th>x2</th>\n",
       "      <th>x3</th>\n",
       "      <th>x4</th>\n",
       "      <th>y1</th>\n",
       "      <th>y2</th>\n",
       "      <th>y3</th>\n",
       "      <th>y4</th>\n",
       "    </tr>\n",
       "  </thead>\n",
       "  <tbody>\n",
       "    <tr>\n",
       "      <th>0</th>\n",
       "      <td>1</td>\n",
       "      <td>10</td>\n",
       "      <td>10</td>\n",
       "      <td>10</td>\n",
       "      <td>8</td>\n",
       "      <td>8.04</td>\n",
       "      <td>9.14</td>\n",
       "      <td>7.46</td>\n",
       "      <td>6.58</td>\n",
       "    </tr>\n",
       "    <tr>\n",
       "      <th>1</th>\n",
       "      <td>2</td>\n",
       "      <td>8</td>\n",
       "      <td>8</td>\n",
       "      <td>8</td>\n",
       "      <td>8</td>\n",
       "      <td>6.95</td>\n",
       "      <td>8.14</td>\n",
       "      <td>6.77</td>\n",
       "      <td>5.76</td>\n",
       "    </tr>\n",
       "    <tr>\n",
       "      <th>2</th>\n",
       "      <td>3</td>\n",
       "      <td>13</td>\n",
       "      <td>13</td>\n",
       "      <td>13</td>\n",
       "      <td>8</td>\n",
       "      <td>7.58</td>\n",
       "      <td>8.74</td>\n",
       "      <td>12.74</td>\n",
       "      <td>7.71</td>\n",
       "    </tr>\n",
       "    <tr>\n",
       "      <th>3</th>\n",
       "      <td>4</td>\n",
       "      <td>9</td>\n",
       "      <td>9</td>\n",
       "      <td>9</td>\n",
       "      <td>8</td>\n",
       "      <td>8.81</td>\n",
       "      <td>8.77</td>\n",
       "      <td>7.11</td>\n",
       "      <td>8.84</td>\n",
       "    </tr>\n",
       "    <tr>\n",
       "      <th>4</th>\n",
       "      <td>5</td>\n",
       "      <td>11</td>\n",
       "      <td>11</td>\n",
       "      <td>11</td>\n",
       "      <td>8</td>\n",
       "      <td>8.33</td>\n",
       "      <td>9.26</td>\n",
       "      <td>7.81</td>\n",
       "      <td>8.47</td>\n",
       "    </tr>\n",
       "    <tr>\n",
       "      <th>5</th>\n",
       "      <td>6</td>\n",
       "      <td>14</td>\n",
       "      <td>14</td>\n",
       "      <td>14</td>\n",
       "      <td>8</td>\n",
       "      <td>9.96</td>\n",
       "      <td>8.10</td>\n",
       "      <td>8.84</td>\n",
       "      <td>7.04</td>\n",
       "    </tr>\n",
       "    <tr>\n",
       "      <th>6</th>\n",
       "      <td>7</td>\n",
       "      <td>6</td>\n",
       "      <td>6</td>\n",
       "      <td>6</td>\n",
       "      <td>8</td>\n",
       "      <td>7.24</td>\n",
       "      <td>6.13</td>\n",
       "      <td>6.08</td>\n",
       "      <td>5.25</td>\n",
       "    </tr>\n",
       "    <tr>\n",
       "      <th>7</th>\n",
       "      <td>8</td>\n",
       "      <td>4</td>\n",
       "      <td>4</td>\n",
       "      <td>4</td>\n",
       "      <td>19</td>\n",
       "      <td>4.26</td>\n",
       "      <td>3.10</td>\n",
       "      <td>5.39</td>\n",
       "      <td>12.50</td>\n",
       "    </tr>\n",
       "    <tr>\n",
       "      <th>8</th>\n",
       "      <td>9</td>\n",
       "      <td>12</td>\n",
       "      <td>12</td>\n",
       "      <td>12</td>\n",
       "      <td>8</td>\n",
       "      <td>10.84</td>\n",
       "      <td>9.13</td>\n",
       "      <td>8.15</td>\n",
       "      <td>5.56</td>\n",
       "    </tr>\n",
       "    <tr>\n",
       "      <th>9</th>\n",
       "      <td>10</td>\n",
       "      <td>7</td>\n",
       "      <td>7</td>\n",
       "      <td>7</td>\n",
       "      <td>8</td>\n",
       "      <td>4.82</td>\n",
       "      <td>7.26</td>\n",
       "      <td>6.42</td>\n",
       "      <td>7.91</td>\n",
       "    </tr>\n",
       "    <tr>\n",
       "      <th>10</th>\n",
       "      <td>11</td>\n",
       "      <td>5</td>\n",
       "      <td>5</td>\n",
       "      <td>5</td>\n",
       "      <td>8</td>\n",
       "      <td>5.68</td>\n",
       "      <td>4.74</td>\n",
       "      <td>5.73</td>\n",
       "      <td>6.89</td>\n",
       "    </tr>\n",
       "  </tbody>\n",
       "</table>\n",
       "</div>"
      ],
      "text/plain": [
       "    Unnamed: 0  x1  x2  x3  x4     y1    y2     y3     y4\n",
       "0            1  10  10  10   8   8.04  9.14   7.46   6.58\n",
       "1            2   8   8   8   8   6.95  8.14   6.77   5.76\n",
       "2            3  13  13  13   8   7.58  8.74  12.74   7.71\n",
       "3            4   9   9   9   8   8.81  8.77   7.11   8.84\n",
       "4            5  11  11  11   8   8.33  9.26   7.81   8.47\n",
       "5            6  14  14  14   8   9.96  8.10   8.84   7.04\n",
       "6            7   6   6   6   8   7.24  6.13   6.08   5.25\n",
       "7            8   4   4   4  19   4.26  3.10   5.39  12.50\n",
       "8            9  12  12  12   8  10.84  9.13   8.15   5.56\n",
       "9           10   7   7   7   8   4.82  7.26   6.42   7.91\n",
       "10          11   5   5   5   8   5.68  4.74   5.73   6.89"
      ]
     },
     "execution_count": 59,
     "metadata": {},
     "output_type": "execute_result"
    }
   ],
   "source": [
    "#Read Data name Anscombe\n",
    "\n",
    "anscombe = pd.read_csv(\"Data/anscombe.csv\")\n",
    "anscombe"
   ]
  },
  {
   "cell_type": "code",
   "execution_count": 61,
   "id": "b6587263",
   "metadata": {},
   "outputs": [
    {
     "name": "stdout",
     "output_type": "stream",
     "text": [
      "0     10\n",
      "1      8\n",
      "2     13\n",
      "3      9\n",
      "4     11\n",
      "5     14\n",
      "6      6\n",
      "7      4\n",
      "8     12\n",
      "9      7\n",
      "10     5\n",
      "Name: x1, dtype: int64\n",
      "0      8.04\n",
      "1      6.95\n",
      "2      7.58\n",
      "3      8.81\n",
      "4      8.33\n",
      "5      9.96\n",
      "6      7.24\n",
      "7      4.26\n",
      "8     10.84\n",
      "9      4.82\n",
      "10     5.68\n",
      "Name: y1, dtype: float64\n"
     ]
    },
    {
     "data": {
      "image/png": "[encoded data removed]",
      "text/plain": [
       "<Figure size 640x480 with 1 Axes>"
      ]
     },
     "metadata": {},
     "output_type": "display_data"
    }
   ],
   "source": [
    "#Checking correlation and plotting scatterplot\n",
    "\n",
    "x = anscombe.iloc[:, 1]\n",
    "y = anscombe.iloc[:, 5]\n",
    "plt.scatter(x,y)\n",
    "plt.xlabel('x')\n",
    "plt.ylabel('y')\n",
    "plt.show()"
   ]
  },
  {
   "cell_type": "markdown",
   "id": "a577c105",
   "metadata": {},
   "source": [
    "# If we were to “guesstimate” a slope for a straight line through this dataset, the points\n",
    "range from 4 to 14 horizontally and from approximately 4 to 11 vertically, so we\n",
    "would expect a slope of approximately\n",
    "𝑏 = rise / run = 11 − 4/ 14 − 4 = 7 / 10 = 0.7\n",
    "\n",
    "We might also guesstimate a value for the intercept of around 𝑎 = 2.0 (perhaps you\n",
    "can imagine the plot axes to extend further to the left and extrapolate a straight line\n",
    "line until it hits the 𝑦-axis)."
   ]
  },
  {
   "cell_type": "code",
   "execution_count": 63,
   "id": "896594cc",
   "metadata": {},
   "outputs": [
    {
     "name": "stdout",
     "output_type": "stream",
     "text": [
      "0    -0.96\n",
      "1    -0.65\n",
      "2    -3.52\n",
      "3     0.51\n",
      "4    -1.37\n",
      "5    -1.84\n",
      "6     1.04\n",
      "7    -0.54\n",
      "8     0.44\n",
      "9    -2.08\n",
      "10    0.18\n",
      "dtype: float64\n"
     ]
    },
    {
     "data": {
      "text/plain": [
       "<function matplotlib.pyplot.show(close=None, block=None)>"
      ]
     },
     "execution_count": 63,
     "metadata": {},
     "output_type": "execute_result"
    },
    {
     "data": {
      "image/png": "[encoded data removed]",
      "text/plain": [
       "<Figure size 640x480 with 1 Axes>"
      ]
     },
     "metadata": {},
     "output_type": "display_data"
    }
   ],
   "source": [
    "a = 2.0\n",
    "b = 0.7\n",
    "\n",
    "#Calculate residuals\n",
    "\n",
    "residuals = y - (a + b * x)\n",
    "print(residuals)\n",
    "\n",
    "#Create scatter plot with regression line\n",
    "\n",
    "plt.scatter(x,y)\n",
    "plt.plot(x , a+ b * x, color= \"red\")\n",
    "plt.xlabel('x')\n",
    "plt.ylabel('y')\n",
    "plt.show"
   ]
  },
  {
   "cell_type": "code",
   "execution_count": 68,
   "id": "ad759b34",
   "metadata": {},
   "outputs": [],
   "source": [
    "from matplotlib.patches import Rectangle"
   ]
  },
  {
   "cell_type": "code",
   "execution_count": 73,
   "id": "97742070",
   "metadata": {},
   "outputs": [
    {
     "data": {
      "image/png": "[encoded data removed]",
      "text/plain": [
       "<Figure size 640x480 with 1 Axes>"
      ]
     },
     "metadata": {},
     "output_type": "display_data"
    }
   ],
   "source": [
    "b = 0.7\n",
    "a = np.mean(y) - b * np.mean(x)\n",
    "residuals = (a + b * x) - y\n",
    "\n",
    "fig, ax = plt.subplots() \n",
    "ax.scatter(x, y, marker='s', s=100) \n",
    "ax.plot(x, a + b * x, color='red') \n",
    "for i in range(len(x)):\n",
    "    rect = Rectangle((x[i], y[i]), \n",
    "                     residuals[i], \n",
    "                     residuals[i], \n",
    "                     fill=True, \n",
    "                     color='green', \n",
    "                     alpha=0.5) \n",
    "    ax.add_patch(rect)\n",
    "ax.set_xlabel('x')\n",
    "ax.set_ylabel('y')\n",
    "ax.set_xlim(3, 17)\n",
    "ax.set_ylim(3,12)\n",
    "plt.show()"
   ]
  },
  {
   "cell_type": "code",
   "execution_count": 74,
   "id": "7488cc1c",
   "metadata": {},
   "outputs": [
    {
     "data": {
      "image/png": "[encoded data removed]",
      "text/plain": [
       "<Figure size 640x480 with 1 Axes>"
      ]
     },
     "metadata": {},
     "output_type": "display_data"
    }
   ],
   "source": [
    "b = 0.1\n",
    "a = np.mean(y) - b * np.mean(x)\n",
    "residuals = (a + b * x) - y\n",
    "\n",
    "fig, ax = plt.subplots() \n",
    "ax.scatter(x, y, marker='s', s=100) \n",
    "ax.plot(x, a + b * x, color='red') \n",
    "for i in range(len(x)):\n",
    "    rect = Rectangle((x[i], y[i]), \n",
    "                     residuals[i], \n",
    "                     residuals[i], \n",
    "                     fill=True, \n",
    "                     color='green', \n",
    "                     alpha=0.5) \n",
    "    ax.add_patch(rect)\n",
    "ax.set_xlabel('x')\n",
    "ax.set_ylabel('y')\n",
    "ax.set_xlim(3, 17)\n",
    "ax.set_ylim(3,12)\n",
    "plt.show()"
   ]
  },
  {
   "cell_type": "code",
   "execution_count": 75,
   "id": "6a575440",
   "metadata": {},
   "outputs": [
    {
     "data": {
      "image/png": "[encoded data removed]",
      "text/plain": [
       "<Figure size 640x480 with 1 Axes>"
      ]
     },
     "metadata": {},
     "output_type": "display_data"
    }
   ],
   "source": [
    "b = 0.5\n",
    "a = np.mean(y) - b * np.mean(x)\n",
    "residuals = (a + b * x) - y\n",
    "\n",
    "fig, ax = plt.subplots() \n",
    "ax.scatter(x, y, marker='s', s=100) \n",
    "ax.plot(x, a + b * x, color='red') \n",
    "for i in range(len(x)):\n",
    "    rect = Rectangle((x[i], y[i]), \n",
    "                     residuals[i], \n",
    "                     residuals[i], \n",
    "                     fill=True, \n",
    "                     color='green', \n",
    "                     alpha=0.5) \n",
    "    ax.add_patch(rect)\n",
    "ax.set_xlabel('x')\n",
    "ax.set_ylabel('y')\n",
    "ax.set_xlim(3, 17)\n",
    "ax.set_ylim(3,12)\n",
    "plt.show()"
   ]
  },
  {
   "cell_type": "code",
   "execution_count": 77,
   "id": "b6ec4e4b",
   "metadata": {},
   "outputs": [
    {
     "name": "stdout",
     "output_type": "stream",
     "text": [
      "0.5000909090909091\n",
      "3.0000909090909103\n"
     ]
    },
    {
     "data": {
      "image/png": "[encoded data removed]",
      "text/plain": [
       "<Figure size 640x480 with 1 Axes>"
      ]
     },
     "metadata": {},
     "output_type": "display_data"
    }
   ],
   "source": [
    "#Calculate B (slope)\n",
    "b = np.sum((x - np.mean(x)) * (y - np.mean(y))) / np.sum((x - np.mean(x)) ** 2) \n",
    "print(b)\n",
    "a = np.mean(y) - b * np.mean(x)\n",
    "print(a)\n",
    "residuals = (a + b * x) - y\n",
    "\n",
    "fig, ax = plt.subplots() \n",
    "ax.scatter(x, y, marker='s', s=100) \n",
    "ax.plot(x, a + b * x, color='red') \n",
    "for i in range(len(x)):\n",
    "    rect = Rectangle((x[i], y[i]), \n",
    "                     residuals[i], \n",
    "                     residuals[i], \n",
    "                     fill=True, \n",
    "                     color='green', \n",
    "                     alpha=0.5) \n",
    "    ax.add_patch(rect)\n",
    "ax.set_xlabel('x')\n",
    "ax.set_ylabel('y')\n",
    "ax.set_xlim(3, 17)\n",
    "ax.set_ylim(3,12)\n",
    "plt.show()"
   ]
  },
  {
   "cell_type": "code",
   "execution_count": null,
   "id": "fef80c63",
   "metadata": {},
   "outputs": [],
   "source": []
  },
  {
   "cell_type": "code",
   "execution_count": null,
   "id": "009de481",
   "metadata": {},
   "outputs": [],
   "source": []
  },
  {
   "cell_type": "code",
   "execution_count": null,
   "id": "f0fdbc4b",
   "metadata": {},
   "outputs": [],
   "source": []
  },
  {
   "cell_type": "code",
   "execution_count": null,
   "id": "bd87cb72",
   "metadata": {},
   "outputs": [],
   "source": []
  },
  {
   "cell_type": "code",
   "execution_count": null,
   "id": "13f5e6ca",
   "metadata": {},
   "outputs": [],
   "source": []
  },
  {
   "cell_type": "markdown",
   "id": "c8e6f52f",
   "metadata": {},
   "source": [
    "# Plotting Scatter Plot"
   ]
  },
  {
   "cell_type": "code",
   "execution_count": 79,
   "id": "3c37b0af",
   "metadata": {},
   "outputs": [
    {
     "name": "stdout",
     "output_type": "stream",
     "text": [
      "       Unnamed: 0      speed        dist\n",
      "count    50.00000  50.000000   50.000000\n",
      "mean     25.50000  15.400000   42.980000\n",
      "std      14.57738   5.287644   25.769377\n",
      "min       1.00000   4.000000    2.000000\n",
      "25%      13.25000  12.000000   26.000000\n",
      "50%      25.50000  15.000000   36.000000\n",
      "75%      37.75000  19.000000   56.000000\n",
      "max      50.00000  25.000000  120.000000\n"
     ]
    }
   ],
   "source": [
    "#import datasert cars\n",
    "\n",
    "cars = pd.read_csv('Data/cars.csv')\n",
    "summary = cars.describe()\n",
    "print(summary)\n",
    "\n",
    "x = cars['speed']\n",
    "y = cars['dist']"
   ]
  },
  {
   "cell_type": "markdown",
   "id": "fa0fb177",
   "metadata": {},
   "source": [
    "# Correlation coefficient between stopping distance and speed in Python and describe the relationship between the two variables, you can use the following code:"
   ]
  },
  {
   "cell_type": "code",
   "execution_count": 80,
   "id": "1aad4da2",
   "metadata": {},
   "outputs": [
    {
     "name": "stdout",
     "output_type": "stream",
     "text": [
      "Correlation coefficient : 0.8068949006892105\n",
      "Relationship descritpion: There is a positive correlation between speed and stopping distance\n"
     ]
    }
   ],
   "source": [
    "correlation = x.corr(y)\n",
    "if correlation > 0 :\n",
    "    description = \"There is a positive correlation between speed and stopping distance\"\n",
    "elif correlation < 0:\n",
    "    description = \"There is a negative correlation between speed and stopping distance\"\n",
    "else:\n",
    "    description = \"There is a no correlation between speed and stopping distance\"\n",
    "\n",
    "print(\"Correlation coefficient :\" , correlation)\n",
    "print(\"Relationship descritpion:\" , description)"
   ]
  },
  {
   "cell_type": "code",
   "execution_count": 81,
   "id": "f0a48b61",
   "metadata": {},
   "outputs": [
    {
     "data": {
      "text/plain": [
       "<function matplotlib.pyplot.show(close=None, block=None)>"
      ]
     },
     "execution_count": 81,
     "metadata": {},
     "output_type": "execute_result"
    },
    {
     "data": {
      "image/png": "[encoded data removed]",
      "text/plain": [
       "<Figure size 640x480 with 1 Axes>"
      ]
     },
     "metadata": {},
     "output_type": "display_data"
    }
   ],
   "source": [
    "#Making Scatter plot\n",
    "\n",
    "plt.scatter(x,y)\n",
    "plt.title('stopping distance vs speed')\n",
    "plt.xlabel('speed')\n",
    "plt.ylabel('dist')\n",
    "plt.show"
   ]
  },
  {
   "cell_type": "markdown",
   "id": "c78f7421",
   "metadata": {},
   "source": [
    "# Finding the equation of the line of best fit, i.e finding the Best Values"
   ]
  },
  {
   "cell_type": "code",
   "execution_count": 82,
   "id": "42354501",
   "metadata": {},
   "outputs": [
    {
     "name": "stdout",
     "output_type": "stream",
     "text": [
      "3.932408759124088\n",
      "-17.57909489051096\n"
     ]
    }
   ],
   "source": [
    "b = np.sum((x - np.mean(x)) * (y - np.mean(y))) / np.sum((x - np.mean(x)) ** 2) \n",
    "print(b)\n",
    "a = np.mean(y) - b * np.mean(x)\n",
    "print(a)\n",
    "residuals = (a + b * x) - y"
   ]
  },
  {
   "cell_type": "code",
   "execution_count": 83,
   "id": "8080f4bf",
   "metadata": {},
   "outputs": [
    {
     "data": {
      "image/png": "[encoded data removed]",
      "text/plain": [
       "<Figure size 640x480 with 1 Axes>"
      ]
     },
     "metadata": {},
     "output_type": "display_data"
    }
   ],
   "source": [
    "fig, ax = plt.subplots() \n",
    "ax.scatter(x, y, marker='s', s=100) \n",
    "ax.plot(x, a + b * x, color='red') \n",
    "for i in range(len(x)):\n",
    "    rect = Rectangle((x[i], y[i]), \n",
    "                     residuals[i], \n",
    "                     residuals[i], \n",
    "                     fill=True, \n",
    "                     color='green', \n",
    "                     alpha=0.5) \n",
    "    ax.add_patch(rect)\n",
    "ax.set_xlabel('x')\n",
    "ax.set_ylabel('y')\n",
    "ax.set_xlim(3, 17)\n",
    "ax.set_ylim(3,12)\n",
    "plt.show()"
   ]
  },
  {
   "cell_type": "code",
   "execution_count": 93,
   "id": "3ae263d5",
   "metadata": {},
   "outputs": [
    {
     "name": "stdout",
     "output_type": "stream",
     "text": [
      "[0.37454012 0.95071431 0.73199394 0.59865848 0.15601864 0.15599452\n",
      " 0.05808361 0.86617615 0.60111501 0.70807258]\n",
      "[0.76966473 2.87133846 2.29643052 1.40965608 0.49386225 0.49539355\n",
      " 0.42040947 2.25710872 1.63417504 1.7073743 ]\n"
     ]
    },
    {
     "data": {
      "text/plain": [
       "<matplotlib.collections.PathCollection at 0x7ff9974a86a0>"
      ]
     },
     "execution_count": 93,
     "metadata": {},
     "output_type": "execute_result"
    },
    {
     "data": {
      "image/png": "[encoded data removed]",
      "text/plain": [
       "<Figure size 640x480 with 1 Axes>"
      ]
     },
     "metadata": {},
     "output_type": "display_data"
    }
   ],
   "source": [
    "np.random.seed(42)\n",
    "x1 = np.random.rand(10)\n",
    "y1 = 2 * x1 + np.random.rand(10)\n",
    "print(x1)\n",
    "print(y1)\n",
    "\n",
    "plt.scatter(x1 , y1 , label = \"Data Points\")\n",
    "\n",
    "\n"
   ]
  }
 ],
 "metadata": {
  "kernelspec": {
   "display_name": "Python 3 (ipykernel)",
   "language": "python",
   "name": "python3"
  },
  "language_info": {
   "codemirror_mode": {
    "name": "ipython",
    "version": 3
   },
   "file_extension": ".py",
   "mimetype": "text/x-python",
   "name": "python",
   "nbconvert_exporter": "python",
   "pygments_lexer": "ipython3",
   "version": "3.9.13"
  }
 },
 "nbformat": 4,
 "nbformat_minor": 5
}
